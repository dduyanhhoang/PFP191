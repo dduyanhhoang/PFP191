{
 "cells": [
  {
   "cell_type": "code",
   "execution_count": 7,
   "metadata": {
    "ExecuteTime": {
     "end_time": "2024-02-29T01:09:56.984873Z",
     "start_time": "2024-02-29T01:09:56.975260Z"
    }
   },
   "outputs": [],
   "source": [
    "def get_employee(n: int) -> dict:\n",
    "    emp_num = 0\n",
    "    employees = dict()\n",
    "\n",
    "    while emp_num < n:\n",
    "        try:\n",
    "            emp_code = input(\"Enter id: \")\n",
    "            name = input(\"Enter name: \")\n",
    "\n",
    "            salary = input(\"Enter salary: \")\n",
    "            try:\n",
    "                salary = float(salary)\n",
    "            except ValueError:\n",
    "                raise ValueError(\"Salary must be a number\")\n",
    "            \n",
    "            if salary < 0:\n",
    "                raise ValueError(\"Salary must be a positive number\")\n",
    "            \n",
    "            emp_num += 1\n",
    "            employees[emp_code] = [name, salary]\n",
    "        except ValueError as e:\n",
    "            print(e)\n",
    "            continue\n",
    "    \n",
    "    return employees\n",
    "\n",
    "def sort_employee(e: dict) -> list:\n",
    "    return sorted(e.items(), key=lambda x: x[1][1], reverse=True)"
   ]
  },
  {
   "cell_type": "code",
   "execution_count": 8,
   "metadata": {
    "ExecuteTime": {
     "end_time": "2024-02-29T01:10:00.642918Z",
     "start_time": "2024-02-29T01:10:00.636033Z"
    }
   },
   "outputs": [],
   "source": [
    "employee_dict = {\n",
    "    \"SE001\": [\"John\", 5000],\n",
    "    \"SE002\": [\"Jane\", 6000],\n",
    "    \"SE003\": [\"Tom\", 4000],\n",
    "    \"SE004\": [\"Alice\", 3000],\n",
    "    \"SE005\": [\"Bob\", 7000],\n",
    "    \"SE006\": [\"Mary\", 8000],\n",
    "    \"SE007\": [\"David\", 9000],\n",
    "    \"SE008\": [\"Eva\", 10000],\n",
    "    \"SE009\": [\"Frank\", 11000],\n",
    "    \"SE010\": [\"Grace\", 12000]\n",
    "}"
   ]
  },
  {
   "cell_type": "code",
   "execution_count": 9,
   "metadata": {
    "ExecuteTime": {
     "end_time": "2024-02-29T01:10:01.881172Z",
     "start_time": "2024-02-29T01:10:01.875862Z"
    }
   },
   "outputs": [],
   "source": [
    "sorted_employees =  sort_employee(employee_dict)"
   ]
  },
  {
   "cell_type": "code",
   "execution_count": 10,
   "metadata": {
    "ExecuteTime": {
     "end_time": "2024-02-29T01:10:05.418898Z",
     "start_time": "2024-02-29T01:10:05.407372Z"
    },
    "collapsed": false
   },
   "outputs": [
    {
     "data": {
      "text/plain": [
       "[('SE010', ['Grace', 12000]),\n",
       " ('SE009', ['Frank', 11000]),\n",
       " ('SE008', ['Eva', 10000]),\n",
       " ('SE007', ['David', 9000]),\n",
       " ('SE006', ['Mary', 8000]),\n",
       " ('SE005', ['Bob', 7000]),\n",
       " ('SE002', ['Jane', 6000]),\n",
       " ('SE001', ['John', 5000]),\n",
       " ('SE003', ['Tom', 4000]),\n",
       " ('SE004', ['Alice', 3000])]"
      ]
     },
     "execution_count": 10,
     "metadata": {},
     "output_type": "execute_result"
    }
   ],
   "source": [
    "sorted_employees"
   ]
  },
  {
   "cell_type": "code",
   "execution_count": 11,
   "metadata": {
    "ExecuteTime": {
     "end_time": "2024-02-29T01:10:07.075500Z",
     "start_time": "2024-02-29T01:10:07.069109Z"
    },
    "collapsed": false
   },
   "outputs": [
    {
     "name": "stdout",
     "output_type": "stream",
     "text": [
      "Employee: SE010, Salary: 12000, Name: Grace\n",
      "Employee: SE009, Salary: 11000, Name: Frank\n",
      "Employee: SE008, Salary: 10000, Name: Eva\n",
      "Employee: SE007, Salary: 9000, Name: David\n",
      "Employee: SE006, Salary: 8000, Name: Mary\n",
      "Employee: SE005, Salary: 7000, Name: Bob\n",
      "Employee: SE002, Salary: 6000, Name: Jane\n",
      "Employee: SE001, Salary: 5000, Name: John\n",
      "Employee: SE003, Salary: 4000, Name: Tom\n",
      "Employee: SE004, Salary: 3000, Name: Alice\n"
     ]
    }
   ],
   "source": [
    "for _ in sorted_employees:\n",
    "    print(f\"Employee: {_[0]}, Salary: {_[1][1]}, Name: {_[1][0]}\")"
   ]
  },
  {
   "cell_type": "code",
   "execution_count": 12,
   "metadata": {
    "ExecuteTime": {
     "end_time": "2024-02-29T01:10:19.784032Z",
     "start_time": "2024-02-29T01:10:19.776312Z"
    },
    "collapsed": false
   },
   "outputs": [
    {
     "data": {
      "text/plain": [
       "{'SE001': ['John', 5000],\n",
       " 'SE002': ['Jane', 6000],\n",
       " 'SE003': ['Tom', 4000],\n",
       " 'SE004': ['Alice', 3000],\n",
       " 'SE005': ['Bob', 7000],\n",
       " 'SE006': ['Mary', 8000],\n",
       " 'SE007': ['David', 9000],\n",
       " 'SE008': ['Eva', 10000],\n",
       " 'SE009': ['Frank', 11000],\n",
       " 'SE010': ['Grace', 12000]}"
      ]
     },
     "execution_count": 12,
     "metadata": {},
     "output_type": "execute_result"
    }
   ],
   "source": [
    "employee_dict"
   ]
  },
  {
   "cell_type": "code",
   "execution_count": null,
   "metadata": {},
   "outputs": [],
   "source": []
  }
 ],
 "metadata": {
  "kernelspec": {
   "display_name": "Python 3",
   "language": "python",
   "name": "python3"
  },
  "language_info": {
   "codemirror_mode": {
    "name": "ipython",
    "version": 3
   },
   "file_extension": ".py",
   "mimetype": "text/x-python",
   "name": "python",
   "nbconvert_exporter": "python",
   "pygments_lexer": "ipython3",
   "version": "3.11.7"
  }
 },
 "nbformat": 4,
 "nbformat_minor": 2
}
