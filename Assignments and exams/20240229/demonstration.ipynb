{
 "cells": [
  {
   "cell_type": "code",
   "execution_count": 1,
   "metadata": {},
   "outputs": [],
   "source": [
    "def get_employee(n: int) -> dict:\n",
    "    emp_num = 0\n",
    "    employees = dict()\n",
    "\n",
    "    while emp_num < n:\n",
    "        try:\n",
    "            emp_code = input(\"Enter id: \")\n",
    "            name = input(\"Enter name: \")\n",
    "\n",
    "            salary = input(\"Enter salary: \")\n",
    "            try:\n",
    "                salary = float(salary)\n",
    "            except ValueError:\n",
    "                raise ValueError(\"Salary must be a number\")\n",
    "            \n",
    "            if salary < 0:\n",
    "                raise ValueError(\"Salary must be a positive number\")\n",
    "            \n",
    "            emp_num += 1\n",
    "            employees[emp_code] = [name, salary]\n",
    "        except ValueError as e:\n",
    "            print(e)\n",
    "            continue\n",
    "    \n",
    "    return employees\n",
    "\n",
    "def sort_employee(e: dict) -> list:\n",
    "    return sorted(e.items(), key=lambda x: x[1][1], reverse=True)"
   ]
  },
  {
   "cell_type": "code",
   "execution_count": 2,
   "metadata": {},
   "outputs": [],
   "source": [
    "num_employees = 3"
   ]
  },
  {
   "cell_type": "code",
   "execution_count": 3,
   "metadata": {},
   "outputs": [],
   "source": [
    "employees = get_employee(num_employees)"
   ]
  },
  {
   "cell_type": "code",
   "execution_count": 4,
   "metadata": {},
   "outputs": [
    {
     "data": {
      "text/plain": [
       "{'01': ['Albert', 10.0], '02': ['Emmy', 7.0], '03': ['Kevin', 8.0]}"
      ]
     },
     "execution_count": 4,
     "metadata": {},
     "output_type": "execute_result"
    }
   ],
   "source": [
    "employees"
   ]
  },
  {
   "cell_type": "code",
   "execution_count": 5,
   "metadata": {},
   "outputs": [],
   "source": [
    "sorted_employees = sort_employee(employees)"
   ]
  },
  {
   "cell_type": "code",
   "execution_count": 7,
   "metadata": {},
   "outputs": [
    {
     "data": {
      "text/plain": [
       "[('01', ['Albert', 10.0]), ('03', ['Kevin', 8.0]), ('02', ['Emmy', 7.0])]"
      ]
     },
     "execution_count": 7,
     "metadata": {},
     "output_type": "execute_result"
    }
   ],
   "source": [
    "sorted_employees"
   ]
  },
  {
   "cell_type": "code",
   "execution_count": 9,
   "metadata": {},
   "outputs": [
    {
     "name": "stdout",
     "output_type": "stream",
     "text": [
      "Employee: 01, Salary: 10.0, Name: Albert\n",
      "Employee: 03, Salary: 8.0, Name: Kevin\n",
      "Employee: 02, Salary: 7.0, Name: Emmy\n"
     ]
    }
   ],
   "source": [
    "for _ in sorted_employees:\n",
    "    print(f\"Employee: {_[0]}, Salary: {_[1][1]}, Name: {_[1][0]}\")"
   ]
  },
  {
   "cell_type": "code",
   "execution_count": null,
   "metadata": {},
   "outputs": [],
   "source": []
  }
 ],
 "metadata": {
  "kernelspec": {
   "display_name": "Python 3",
   "language": "python",
   "name": "python3"
  },
  "language_info": {
   "codemirror_mode": {
    "name": "ipython",
    "version": 3
   },
   "file_extension": ".py",
   "mimetype": "text/x-python",
   "name": "python",
   "nbconvert_exporter": "python",
   "pygments_lexer": "ipython3",
   "version": "3.11.7"
  }
 },
 "nbformat": 4,
 "nbformat_minor": 2
}
